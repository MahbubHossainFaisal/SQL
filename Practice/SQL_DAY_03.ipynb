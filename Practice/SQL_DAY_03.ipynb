{
 "cells": [
  {
   "cell_type": "markdown",
   "id": "bffc859a",
   "metadata": {},
   "source": [
    "## Binary Search Tree\n",
    "Link: https://www.hackerrank.com/challenges/binary-search-tree-1/problem?isFullScreen=true"
   ]
  },
  {
   "cell_type": "markdown",
   "id": "d65786f0",
   "metadata": {},
   "source": [
    "```sql\n",
    "SELECT \n",
    "    CASE \n",
    "        WHEN P IS NULL THEN CONCAT(N, ' Root')\n",
    "        WHEN N IN (SELECT P FROM BST) THEN CONCAT(N, ' Inner')\n",
    "        ELSE CONCAT(N, ' Leaf')\n",
    "    END AS BSTtable\n",
    "FROM BST\n",
    "ORDER BY N ASC;\n",
    "```\n",
    "\n",
    "1. `SELECT` clause: This part of the code defines what will be displayed in the output of the query. It includes a `CASE` statement to determine the appropriate label for each node in a Binary Search Tree (BST).\n",
    "\n",
    "2. `CASE` statement: The `CASE` statement is used to perform conditional logic in the SQL query. It evaluates different conditions and returns a specific value based on the satisfied condition. In this case, the `CASE` statement has three branches:\n",
    "\n",
    "   - `WHEN P IS NULL THEN CONCAT(N, ' Root')`: This branch checks if the parent (`P`) column is NULL. If it is, it means the current node is the root of the tree. The result will be the node value (`N`) concatenated with the string \" Root\".\n",
    "   \n",
    "   - `WHEN N IN (SELECT P FROM BST) THEN CONCAT(N, ' Inner')`: This branch checks if the node value (`N`) is present in the result of a subquery that selects parent values (`P`) from the `BST` table. If the node value is found as a parent in the table, it means the current node is an inner node (not root or leaf). The result will be the node value concatenated with the string \" Inner\".\n",
    "   \n",
    "   - `ELSE CONCAT(N, ' Leaf')`: This branch handles cases where the above conditions are not met, meaning the current node is neither a root nor an inner node. Thus, it's considered a leaf node. The result will be the node value concatenated with the string \" Leaf\".\n",
    "\n",
    "3. `FROM BST`: This specifies the source table for the query, which is named `BST`. It's assumed that the table represents a Binary Search Tree with columns `N` representing node values and `P` representing parent values.\n",
    "\n",
    "4. `ORDER BY N ASC`: This clause sorts the result set in ascending order based on the `N` column, which represents node values.\n",
    "\n",
    "Overall, the query generates a result set that assigns labels to each node in the Binary Search Tree based on its role within the tree (Root, Inner, or Leaf) and orders the nodes in ascending order of their values. The output will provide insights into the structure of the binary search tree."
   ]
  },
  {
   "cell_type": "code",
   "execution_count": null,
   "id": "13ed77b6",
   "metadata": {},
   "outputs": [],
   "source": []
  },
  {
   "cell_type": "markdown",
   "id": "f09f319f",
   "metadata": {},
   "source": [
    "## The Company"
   ]
  },
  {
   "cell_type": "markdown",
   "id": "da46b830",
   "metadata": {},
   "source": [
    "Link: https://www.hackerrank.com/challenges/the-company/problem?isFullScreen=true&h_r=next-challenge&h_v=zen"
   ]
  },
  {
   "cell_type": "markdown",
   "id": "9a45d7b7",
   "metadata": {},
   "source": [
    "```sql\n",
    "SELECT c.company_code, c.founder,\n",
    "    COUNT(DISTINCT l.lead_manager_code),\n",
    "    COUNT(DISTINCT sm.senior_manager_code),\n",
    "    COUNT(DISTINCT m.manager_code),\n",
    "    COUNT(DISTINCT e.employee_code)\n",
    "FROM Company c, Lead_manager l, Senior_Manager sm, Manager m, Employee e \n",
    "WHERE c.company_code = l.company_code\n",
    "    AND c.company_code = sm.company_code\n",
    "    AND c.company_code = m.company_code\n",
    "    AND c.company_code = e.company_code\n",
    "GROUP BY c.company_code, c.founder\n",
    "ORDER BY c.company_code;\n",
    "```"
   ]
  },
  {
   "cell_type": "markdown",
   "id": "28f2a2dc",
   "metadata": {},
   "source": [
    "\n",
    "\n",
    "\n",
    "\n",
    "1. `SELECT` clause: This part of the code specifies the columns to be included in the output. In this case, it selects the `company_code` and `founder` columns from the `Company` table, along with the counts of distinct codes for lead managers, senior managers, managers, and employees.\n",
    "\n",
    "2. `FROM` clause: Here, the tables that are being used in the query are specified. The tables being used are `Company`, `Lead_manager`, `Senior_Manager`, `Manager`, and `Employee`.\n",
    "\n",
    "3. `WHERE` clause: This clause defines the conditions that determine how the tables are joined together. It's used to filter the rows from the joined tables. In this case, the conditions ensure that the records are linked based on the `company_code` field. It's connecting records from the various managerial levels (`Lead_manager`, `Senior_Manager`, `Manager`, `Employee`) to their respective companies (`Company`).\n",
    "\n",
    "4. `GROUP BY` clause: This clause groups the result set by `company_code` and `founder`. This means that the query will count the distinct codes for each managerial level and employee within each company. The result will be grouped according to the company and founder.\n",
    "\n",
    "5. `ORDER BY` clause: This clause orders the final result set based on the `company_code` in ascending order.\n",
    "\n",
    "Here's a breakdown of the counts being calculated:\n",
    "\n",
    "- `COUNT(DISTINCT l.lead_manager_code)`: Count of distinct lead manager codes within each company.\n",
    "- `COUNT(DISTINCT sm.senior_manager_code)`: Count of distinct senior manager codes within each company.\n",
    "- `COUNT(DISTINCT m.manager_code)`: Count of distinct manager codes within each company.\n",
    "- `COUNT(DISTINCT e.employee_code)`: Count of distinct employee codes within each company.\n",
    "\n",
    "The overall result of this query will provide a breakdown of companies, their founders, and the counts of distinct codes for different levels of managers and employees associated with each company."
   ]
  },
  {
   "cell_type": "code",
   "execution_count": null,
   "id": "9f2350b8",
   "metadata": {},
   "outputs": [],
   "source": []
  }
 ],
 "metadata": {
  "kernelspec": {
   "display_name": "Python 3 (ipykernel)",
   "language": "python",
   "name": "python3"
  },
  "language_info": {
   "codemirror_mode": {
    "name": "ipython",
    "version": 3
   },
   "file_extension": ".py",
   "mimetype": "text/x-python",
   "name": "python",
   "nbconvert_exporter": "python",
   "pygments_lexer": "ipython3",
   "version": "3.9.13"
  }
 },
 "nbformat": 4,
 "nbformat_minor": 5
}
