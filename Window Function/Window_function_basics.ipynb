{
 "cells": [
  {
   "cell_type": "markdown",
   "id": "440151e1",
   "metadata": {},
   "source": [
    "### Definition"
   ]
  },
  {
   "cell_type": "markdown",
   "id": "7630955c",
   "metadata": {},
   "source": [
    "Window functions, also known as windowing or windowed functions, are a category of functions in relational database management systems (RDBMS) that perform calculations across a specified range of rows related to the current row within a query result set. These functions operate within a \"window\" of rows defined by an OVER() clause, allowing for more advanced and flexible analytical queries."
   ]
  },
  {
   "cell_type": "markdown",
   "id": "5791e505",
   "metadata": {},
   "source": [
    "#### What a basic query of AVG can do"
   ]
  },
  {
   "cell_type": "markdown",
   "id": "267d011f",
   "metadata": {},
   "source": [
    "| student_id | student_name | marks |\n",
    "|------------|--------------|-------|\n",
    "| 1          | Alice        | 85    |\n",
    "| 2          | Bob          | 92    |\n",
    "| 3          | Carol        | 78    |\n",
    "| 4          | David        | 89    |\n",
    "| 5          | Emma         | 95    |\n"
   ]
  },
  {
   "cell_type": "markdown",
   "id": "4ac858ac",
   "metadata": {},
   "source": [
    "    -SELECT AVG(marks) AS Average_marks FROM student_marks;"
   ]
  },
  {
   "cell_type": "markdown",
   "id": "4cc4d5d9",
   "metadata": {},
   "source": [
    "| Average_marks |\n",
    "|---------------|\n",
    "| 87.8          |\n"
   ]
  },
  {
   "cell_type": "markdown",
   "id": "0314cd2b",
   "metadata": {},
   "source": [
    "#### If we use window function in this query"
   ]
  },
  {
   "cell_type": "markdown",
   "id": "454872ce",
   "metadata": {},
   "source": [
    "| student_id | student_name | marks |\n",
    "|------------|--------------|-------|\n",
    "| 1          | Alice        | 85    |\n",
    "| 2          | Bob          | 92    |\n",
    "| 3          | Carol        | 78    |\n",
    "| 4          | David        | 89    |\n",
    "| 5          | Emma         | 95    |\n"
   ]
  },
  {
   "cell_type": "markdown",
   "id": "7eaf4283",
   "metadata": {},
   "source": [
    "    -SELECT AVG(marks) OVER() FROM student_marks;"
   ]
  },
  {
   "cell_type": "markdown",
   "id": "22e9786f",
   "metadata": {},
   "source": [
    "| Average_marks |\n",
    "|---------------|\n",
    "| 87.8          |\n",
    "| 87.8          |\n",
    "| 87.8          |\n",
    "| 87.8          |\n",
    "| 87.8          |\n"
   ]
  },
  {
   "cell_type": "markdown",
   "id": "7428b26b",
   "metadata": {},
   "source": [
    "#### That's what window function do."
   ]
  },
  {
   "cell_type": "markdown",
   "id": "058f807c",
   "metadata": {},
   "source": [
    "    -Suppose we don't want to see the average of all marks in every rows. Rather we want to see the average marks by each department"
   ]
  },
  {
   "cell_type": "markdown",
   "id": "6a7ed8ae",
   "metadata": {},
   "source": [
    "| student_id | student_name | marks | branch |\n",
    "|------------|--------------|-------|--------|\n",
    "| 1          | Alice        | 85    | A      |\n",
    "| 2          | Bob          | 92    | B      |\n",
    "| 3          | Carol        | 78    | A      |\n",
    "| 4          | David        | 89    | B      |\n",
    "| 5          | Emma         | 95    | A      |\n"
   ]
  },
  {
   "cell_type": "markdown",
   "id": "298ce55c",
   "metadata": {},
   "source": [
    "    -SELECT *, AVG(marks) OVER(PARTITION BY branch) AS Average_marks FROM student_marks;"
   ]
  },
  {
   "cell_type": "markdown",
   "id": "af51516b",
   "metadata": {},
   "source": [
    "| student_id | student_name | marks | branch | Average_marks |\n",
    "|------------|--------------|-------|--------|---------------|\n",
    "| 1          | Alice        | 85    | A      | 86.0          |\n",
    "| 2          | Bob          | 92    | B      | 90.5          |\n",
    "| 3          | Carol        | 78    | A      | 86.0          |\n",
    "| 4          | David        | 89    | B      | 90.5          |\n",
    "| 5          | Emma         | 95    | A      | 86.0          |\n"
   ]
  },
  {
   "cell_type": "markdown",
   "id": "08252269",
   "metadata": {},
   "source": [
    "### Example 01"
   ]
  },
  {
   "cell_type": "markdown",
   "id": "793fe97c",
   "metadata": {},
   "source": [
    "    -Find all the students who have marks higher than the average marks of their respective branch using a window function"
   ]
  },
  {
   "cell_type": "markdown",
   "id": "98921ccf",
   "metadata": {},
   "source": [
    "| student_id | student_name | marks | branch |\n",
    "|------------|--------------|-------|--------|\n",
    "| 1          | Alice        | 85    | A      |\n",
    "| 2          | Bob          | 92    | B      |\n",
    "| 3          | Carol        | 78    | A      |\n",
    "| 4          | David        | 89    | B      |\n",
    "| 5          | Emma         | 95    | A      |\n"
   ]
  },
  {
   "cell_type": "markdown",
   "id": "17c81934",
   "metadata": {},
   "source": [
    "    SELECT\n",
    "        student_id,\n",
    "        student_name,\n",
    "        marks,\n",
    "        branch,\n",
    "        AVG(marks) OVER (PARTITION BY branch) AS avg_branch_marks\n",
    "    FROM\n",
    "        student_marks\n",
    "    WHERE\n",
    "        marks > AVG(marks) OVER (PARTITION BY branch);\n"
   ]
  },
  {
   "cell_type": "markdown",
   "id": "22063ec7",
   "metadata": {},
   "source": [
    "| student_id | student_name | marks | branch | avg_branch_marks |\n",
    "|------------|--------------|-------|--------|------------------|\n",
    "| 2          | Bob          | 92    | B      | 90.5             |\n",
    "| 5          | Emma         | 95    | A      | 86.0             |\n"
   ]
  },
  {
   "cell_type": "markdown",
   "id": "10112e33",
   "metadata": {},
   "source": [
    "### Example 02"
   ]
  },
  {
   "cell_type": "markdown",
   "id": "9c3fa50b",
   "metadata": {},
   "source": [
    "    -SQL query using window functions to find the minimum and maximum marks for each student"
   ]
  },
  {
   "cell_type": "markdown",
   "id": "5a9616df",
   "metadata": {},
   "source": [
    "#### Input table\n",
    "\n",
    "| StudentID | Subject | Marks |\n",
    "|-----------|---------|-------|\n",
    "| 1         | Math    | 85    |\n",
    "| 1         | Science | 92    |\n",
    "| 2         | Math    | 78    |\n",
    "| 2         | Science | 88    |\n",
    "| 3         | Math    | 95    |\n",
    "| 3         | Science | 90    |\n"
   ]
  },
  {
   "cell_type": "markdown",
   "id": "c116874b",
   "metadata": {},
   "source": [
    "    SELECT\n",
    "        StudentID,\n",
    "        Subject,\n",
    "        Marks,\n",
    "        MIN(Marks) OVER () AS MinMarks,\n",
    "        MAX(Marks) OVER () AS MaxMarks\n",
    "    FROM\n",
    "        StudentMarks;"
   ]
  },
  {
   "cell_type": "markdown",
   "id": "2b83ef32",
   "metadata": {},
   "source": [
    "#### Output Table:\n",
    "\n",
    "| StudentID | Subject | Marks | MinMarks | MaxMarks |\n",
    "|-----------|---------|-------|----------|----------|\n",
    "| 1         | Math    | 85    | 78       | 95       |\n",
    "| 1         | Science | 92    | 78       | 95       |\n",
    "| 2         | Math    | 78    | 78       | 95       |\n",
    "| 2         | Science | 88    | 78       | 95       |\n",
    "| 3         | Math    | 95    | 78       | 95       |\n",
    "| 3         | Science | 90    | 78       | 95       |\n"
   ]
  },
  {
   "cell_type": "markdown",
   "id": "20dcaf50",
   "metadata": {},
   "source": [
    "### Example 03"
   ]
  },
  {
   "cell_type": "markdown",
   "id": "e472f6fb",
   "metadata": {},
   "source": [
    "    -SQL query using window functions to find the minimum and maximum marks for each branch"
   ]
  },
  {
   "cell_type": "markdown",
   "id": "6997cdd4",
   "metadata": {},
   "source": [
    "| StudentID | Branch   | Subject | Marks |\n",
    "|-----------|----------|---------|-------|\n",
    "| 1         | Science  | Math    | 85    |\n",
    "| 2         | Arts     | Science | 88    |\n",
    "| 3         | Commerce | Science | 90    |\n",
    "| 1         | Science  | Science | 92    |\n",
    "| 2         | Arts     | Math    | 78    |\n",
    "| 3         | Commerce | Math    | 95    |\n"
   ]
  },
  {
   "cell_type": "markdown",
   "id": "6ec14746",
   "metadata": {},
   "source": [
    "    SELECT\n",
    "        StudentID,\n",
    "        Branch,\n",
    "        Subject,\n",
    "        Marks,\n",
    "        MIN(Marks) OVER (PARTITION BY Branch) AS MinMarks,\n",
    "        MAX(Marks) OVER (PARTITION BY Branch) AS MaxMarks\n",
    "    FROM\n",
    "        StudentMarks\n",
    "    ORDER BY StudentID;"
   ]
  },
  {
   "cell_type": "markdown",
   "id": "7d553f5d",
   "metadata": {},
   "source": [
    "| StudentID | Branch   | Subject | Marks | MinMarks | MaxMarks |\n",
    "|-----------|----------|---------|-------|----------|----------|\n",
    "| 1         | Science  | Science | 92    | 85       | 92       |\n",
    "| 1         | Science  | Math    | 85    | 85       | 92       |\n",
    "| 2         | Arts     | Science | 88    | 78       | 88       |\n",
    "| 2         | Arts     | Math    | 78    | 78       | 88       |\n",
    "| 3         | Commerce | Science | 90    | 90       | 95       |\n",
    "| 3         | Commerce | Math    | 95    | 90       | 95       |\n"
   ]
  },
  {
   "cell_type": "code",
   "execution_count": null,
   "id": "12be506f",
   "metadata": {},
   "outputs": [],
   "source": []
  }
 ],
 "metadata": {
  "kernelspec": {
   "display_name": "Python 3 (ipykernel)",
   "language": "python",
   "name": "python3"
  },
  "language_info": {
   "codemirror_mode": {
    "name": "ipython",
    "version": 3
   },
   "file_extension": ".py",
   "mimetype": "text/x-python",
   "name": "python",
   "nbconvert_exporter": "python",
   "pygments_lexer": "ipython3",
   "version": "3.9.13"
  }
 },
 "nbformat": 4,
 "nbformat_minor": 5
}
