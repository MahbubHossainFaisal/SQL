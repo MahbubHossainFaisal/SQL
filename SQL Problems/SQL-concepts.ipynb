{
 "cells": [
  {
   "cell_type": "markdown",
   "id": "198e4172-0684-4d9c-95ee-ba4dcebce0ce",
   "metadata": {},
   "source": [
    "## AS derived_table_alias"
   ]
  },
  {
   "cell_type": "code",
   "execution_count": null,
   "id": "19130317-374a-4aae-b9c4-220c326f76b5",
   "metadata": {},
   "outputs": [],
   "source": [
    "SELECT Employee\n",
    "FROM (\n",
    "  SELECT e.name AS Employee, e.salary AS salary, m.name AS managerName, m.salary AS managerSalary\n",
    "  FROM Employee e\n",
    "  JOIN Employee m ON e.managerId = m.id\n",
    "  WHERE e.salary > m.salary\n",
    ") AS derived_table_alias;"
   ]
  },
  {
   "cell_type": "code",
   "execution_count": null,
   "id": "f0c6ed27-4d13-490f-9989-b104dce4effe",
   "metadata": {},
   "outputs": [],
   "source": []
  },
  {
   "cell_type": "code",
   "execution_count": null,
   "id": "be722f2c-8255-493a-a987-030c11c8375e",
   "metadata": {},
   "outputs": [],
   "source": []
  },
  {
   "cell_type": "markdown",
   "id": "750371a1-374c-4b46-9616-c4a3ecc14745",
   "metadata": {},
   "source": [
    "The \"AS\" keyword followed by a name (in this case, \"derived_table_alias\") is used in SQL to assign an alias to a table, subquery, or derived table.\n",
    "\n",
    "Here's a breakdown of how it works:\n",
    "\n",
    "The query within the parentheses represents a subquery or derived table. It is enclosed in parentheses and treated as a temporary table for the outer query.\n",
    "To refer to this temporary table, we assign it an alias using the \"AS\" keyword. The alias is the name that we choose to represent the derived table.\n",
    "The alias provides a shorthand or alternative name for the derived table. It helps simplify the SQL syntax and makes the query more readable.\n",
    "Once the alias is assigned, we can refer to the derived table using its alias in the outer query. This includes selecting columns, performing joins, or applying conditions.\n",
    "In the example query you provided, \"AS derived_table_alias\" assigns the alias \"derived_table_alias\" to the derived table created by the subquery. It allows you to treat the derived table as a regular table and reference it in the outer query.\n",
    "\n",
    "By using aliases, you can improve the readability and maintainability of complex SQL queries, especially when dealing with multiple tables or subqueries."
   ]
  },
  {
   "cell_type": "markdown",
   "id": "2d2acb59-e3c3-4c8a-b98c-d9bea503a956",
   "metadata": {},
   "source": [
    "## Find duplicates Query"
   ]
  },
  {
   "cell_type": "code",
   "execution_count": null,
   "id": "cea19933-2d32-481e-b4e5-fe8c62cd5dfd",
   "metadata": {},
   "outputs": [],
   "source": [
    "SELECT email as Email  from Person GROUP BY email\n",
    "HAVING COUNT(*) > 1"
   ]
  },
  {
   "cell_type": "markdown",
   "id": "c55ac948-d290-48c1-86da-42c1a526f93e",
   "metadata": {},
   "source": [
    "## Write an SQL query to report all customers who never order anything."
   ]
  },
  {
   "cell_type": "code",
   "execution_count": null,
   "id": "6cebca13-e1ef-4b69-b098-cf1be9e08f19",
   "metadata": {},
   "outputs": [],
   "source": [
    "\n",
    "SELECT name as Customers from Customers WHERE id not in (\n",
    "SELECT customerId from Orders\n",
    ")\n"
   ]
  },
  {
   "cell_type": "markdown",
   "id": "8c6c0af0-5d0d-4dc6-a2cc-f25975b0066c",
   "metadata": {},
   "source": [
    "## Find duplicate emails and keep only one unique email from all the duplicates along with the other single unique emails"
   ]
  },
  {
   "cell_type": "code",
   "execution_count": null,
   "id": "b3d45b32-d517-4517-b330-16ee5997828b",
   "metadata": {},
   "outputs": [],
   "source": [
    "DELETE p1\n",
    "FROM Person p1\n",
    "JOIN (\n",
    "  SELECT email, MIN(id) AS min_id\n",
    "  FROM Person\n",
    "  GROUP BY email\n",
    "  HAVING COUNT(*) > 1\n",
    ") p2 ON p1.email = p2.email AND p1.id > p2.min_id;"
   ]
  },
  {
   "cell_type": "code",
   "execution_count": null,
   "id": "82e30a16-6a60-4936-a663-e6def2e5fc76",
   "metadata": {},
   "outputs": [],
   "source": []
  },
  {
   "cell_type": "markdown",
   "id": "0fba80b7-c34c-4351-a573-1ce0eb14600a",
   "metadata": {},
   "source": [
    "## There is a id, date, tempurature given. You have to provide the id in the output whose tempurature is greater than the previous date of the date column"
   ]
  },
  {
   "cell_type": "code",
   "execution_count": null,
   "id": "f9980f90-6d4c-4f70-b93b-49abdb65ac63",
   "metadata": {},
   "outputs": [],
   "source": [
    "SELECT id\n",
    "FROM\n",
    "(SELECT t1.id as id, t1.temperature as temperature , t2.temperature as previousDayTemperature\n",
    "FROM Weather t1 \n",
    "LEFT JOIN Weather t2\n",
    "on t2.recordDate = DATE_SUB(t1.recordDate, INTERVAL 1 DAY)) AS WeatherCompare\n",
    "WHERE temperature > previousDayTemperature\n"
   ]
  },
  {
   "cell_type": "code",
   "execution_count": null,
   "id": "ba97d718-9a92-45af-90cd-843fa54545e1",
   "metadata": {},
   "outputs": [],
   "source": []
  },
  {
   "cell_type": "markdown",
   "id": "0d368ac2-cf3d-48cc-9754-e357fbbefff7",
   "metadata": {},
   "source": [
    "## Employee table: Employee id, name, supervisor and another table Bonus: employee id, Bonus Given. You have to find the employee id whose bonus is less than 1000 or null"
   ]
  },
  {
   "cell_type": "code",
   "execution_count": null,
   "id": "afda126a-4ee2-4383-b1c3-022645e1c378",
   "metadata": {},
   "outputs": [],
   "source": [
    "SELECT e.name as name,b.bonus as bonus\n",
    "FROM Employee e\n",
    "LEFT JOIN Bonus b on e.empId = b.empId\n",
    "WHERE b.bonus < 1000 or b.bonus is NULL"
   ]
  },
  {
   "cell_type": "code",
   "execution_count": null,
   "id": "97160710-72cc-4198-9055-3c1be104b911",
   "metadata": {},
   "outputs": [],
   "source": []
  },
  {
   "cell_type": "markdown",
   "id": "20a70400-18e2-46aa-9732-f5a2378a1992",
   "metadata": {},
   "source": [
    "## Write an SQL query to find the customer_number for the customer who has placed the largest number of orders."
   ]
  },
  {
   "cell_type": "code",
   "execution_count": null,
   "id": "0e8d093f-a5a6-4d0a-9ce7-cf70b83cd49f",
   "metadata": {},
   "outputs": [],
   "source": [
    "SELECT customer_number\n",
    "FROM (\n",
    "    SELECT customer_number, COUNT(*) AS order_count\n",
    "    FROM Orders\n",
    "    GROUP BY customer_number\n",
    ") AS order_counts\n",
    "ORDER BY order_count DESC\n",
    "LIMIT 1;"
   ]
  }
 ],
 "metadata": {
  "kernelspec": {
   "display_name": "Python 3 (ipykernel)",
   "language": "python",
   "name": "python3"
  },
  "language_info": {
   "codemirror_mode": {
    "name": "ipython",
    "version": 3
   },
   "file_extension": ".py",
   "mimetype": "text/x-python",
   "name": "python",
   "nbconvert_exporter": "python",
   "pygments_lexer": "ipython3",
   "version": "3.10.8"
  }
 },
 "nbformat": 4,
 "nbformat_minor": 5
}
