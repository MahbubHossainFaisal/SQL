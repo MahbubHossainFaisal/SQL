{
 "cells": [
  {
   "cell_type": "markdown",
   "id": "be2b28b1",
   "metadata": {},
   "source": [
    "### 58. Write down the query to fetch EmployeeName & Project who has assign more than one project."
   ]
  },
  {
   "cell_type": "code",
   "execution_count": null,
   "id": "d117b05b",
   "metadata": {},
   "outputs": [],
   "source": [
    "SELECT E.EmployeeID, E.FirstName, P.ProjectName\n",
    "FROM EmployeeDetail E\n",
    "INNER JOIN ProjectDetail P ON E.EmployeeID = P.EmployeeDetailID\n",
    "WHERE E.EmployeeID IN (\n",
    "    SELECT EmployeeDetailID\n",
    "    FROM ProjectDetail\n",
    "    GROUP BY EmployeeDetailID\n",
    "    HAVING COUNT(*) > 1\n",
    ");"
   ]
  },
  {
   "cell_type": "markdown",
   "id": "6d6278ad",
   "metadata": {},
   "source": [
    "### 59. Write down the query to fetch ProjectName on which more than one employee are working along with EmployeeName"
   ]
  },
  {
   "cell_type": "code",
   "execution_count": null,
   "id": "ac66c298",
   "metadata": {},
   "outputs": [],
   "source": [
    "SELECT P.ProjectName, E.FName\n",
    "FROM ProjectDetails P\n",
    "INNER JOIN EmployeeDetails E ON P.EmployeId = E.Id\n",
    "WHERE P.ProjectName IN (\n",
    "    SELECT ProjectName\n",
    "    FROM ProjectDetails\n",
    "    GROUP BY ProjectName\n",
    "    HAVING COUNT(*) > 1\n",
    ");\n"
   ]
  },
  {
   "cell_type": "markdown",
   "id": "88201298",
   "metadata": {},
   "source": [
    "Completed till 77! Day 2"
   ]
  },
  {
   "cell_type": "code",
   "execution_count": null,
   "id": "bb99b171",
   "metadata": {},
   "outputs": [],
   "source": []
  }
 ],
 "metadata": {
  "kernelspec": {
   "display_name": "Python 3 (ipykernel)",
   "language": "python",
   "name": "python3"
  },
  "language_info": {
   "codemirror_mode": {
    "name": "ipython",
    "version": 3
   },
   "file_extension": ".py",
   "mimetype": "text/x-python",
   "name": "python",
   "nbconvert_exporter": "python",
   "pygments_lexer": "ipython3",
   "version": "3.9.13"
  }
 },
 "nbformat": 4,
 "nbformat_minor": 5
}
