{
 "cells": [
  {
   "cell_type": "markdown",
   "id": "2e075163-8f8d-4d13-8953-d5fac5f7b89f",
   "metadata": {},
   "source": [
    "### Junction Table"
   ]
  },
  {
   "cell_type": "markdown",
   "id": "e7dcfa17-db73-418d-bc26-7441dcc67e87",
   "metadata": {},
   "source": [
    "A junction table, also known as an associative table, bridge table, or linking table, is a concept used in database design to handle many-to-many relationships between two entities.\n",
    "\n",
    "In a relational database, a many-to-many relationship occurs when multiple records in one table are associated with multiple records in another table. For example, consider a scenario where you have two tables: \"Students\" and \"Courses.\" Each student can enroll in multiple courses, and each course can have multiple students enrolled. This is a classic many-to-many relationship.\n",
    "\n",
    "To represent this relationship in a relational database, you can create a junction table that acts as a bridge between the \"Students\" and \"Courses\" tables. The junction table typically consists of foreign keys referencing the primary keys of the two related tables.\n",
    "\n",
    "The benefits of using a junction table include:\n",
    "\n",
    "Resolving many-to-many relationships: The junction table provides a way to represent and store the associations between entities in a clean and efficient manner.\n",
    "\n",
    "Avoiding data duplication: By using a junction table, you avoid duplicating data across multiple rows in the main tables. This improves data integrity and reduces storage space.\n",
    "\n",
    "Enabling additional attributes: The junction table can include additional attributes specific to the relationship between the two entities. For example, in the student-course example, the junction table could store attributes like enrollment date, grade, or any other relevant information.\n",
    "\n",
    "Simplifying queries: The junction table simplifies querying and retrieving data related to the many-to-many relationship. You can join the junction table with the main tables to fetch the desired information.\n",
    "\n",
    "Overall, a junction table helps maintain a clean and normalized database structure while effectively representing and handling many-to-many relationships between entities."
   ]
  },
  {
   "cell_type": "markdown",
   "id": "ef6489e7-242e-40d2-ba46-6eaf98182c6e",
   "metadata": {},
   "source": [
    "### Upsert Statement"
   ]
  },
  {
   "cell_type": "markdown",
   "id": "e497d908-fae8-48e7-8b67-196c40800f78",
   "metadata": {},
   "source": [
    "In PostgreSQL, the term \"upsert\" refers to the combination of the \"UPDATE\" and \"INSERT\" operations. It allows you to either update an existing row in a table or insert a new row if the row does not already exist, all in a single database operation. This is particularly useful when you want to avoid duplicate entries or efficiently handle conflicts in your data.\n",
    "\n",
    "To perform an upsert in PostgreSQL, you can use the `INSERT INTO ... ON CONFLICT DO UPDATE` statement, which was introduced in PostgreSQL version 9.5. Here's an example that demonstrates how to use upsert:\n",
    "\n",
    "Suppose you have a table called \"employees\" with the following columns: \"id\" (primary key), \"name,\" and \"salary.\" You want to upsert a new employee record or update an existing employee's salary based on their ID. Here's how you can achieve that:\n",
    "\n",
    "```sql\n",
    "INSERT INTO employees (id, name, salary)\n",
    "VALUES (1, 'John Doe', 5000)\n",
    "ON CONFLICT (id)\n",
    "DO UPDATE SET salary = excluded.salary;\n",
    "```\n",
    "\n",
    "Let's break down the above statement:\n",
    "\n",
    "- The `INSERT INTO` clause specifies the target table name (\"employees\") and the columns (\"id\", \"name\", and \"salary\") to insert values into.\n",
    "- The `VALUES` clause specifies the actual values you want to insert. In this example, we're inserting a new employee with ID 1, name \"John Doe,\" and salary 5000.\n",
    "- The `ON CONFLICT (id)` clause defines the conflict resolution condition. In this case, if there is a conflict on the \"id\" column (i.e., the ID already exists in the table), the conflict action will be triggered.\n",
    "- The `DO UPDATE` clause specifies the action to be taken in case of a conflict. In this example, we update the \"salary\" column with the value from the new row being inserted. The `excluded.salary` refers to the value from the new row, excluding the conflicting row.\n",
    "\n",
    "If the \"id\" already exists in the \"employees\" table, the above query will update the \"salary\" column for that employee. Otherwise, if the \"id\" is not present, a new row will be inserted with the specified values.\n",
    "\n",
    "By using the upsert functionality, you can efficiently handle cases where you need to update existing records or insert new ones based on certain conditions, reducing the need for separate SELECT, UPDATE, and INSERT operations."
   ]
  },
  {
   "cell_type": "markdown",
   "id": "93ee0bd8-208c-4694-b28c-185fb81f007f",
   "metadata": {},
   "source": [
    "### Alias concept"
   ]
  },
  {
   "cell_type": "markdown",
   "id": "1309fd4b-113e-4e28-ab33-1c4e153abc16",
   "metadata": {},
   "source": [
    "When we use alias after column name like\n",
    "\n",
    "Select first_name as **firstName** FROM Student\n",
    "\n",
    "in postgre alias don't take capital letter. So although we give it, it worn't show in the table.\n",
    "\n",
    "To solve that we have to keep the alias under quotation like this\n",
    "\n",
    "SELECT first_name as **\"FirstName\"** FROM Student;"
   ]
  },
  {
   "cell_type": "code",
   "execution_count": null,
   "id": "5cc0fc37-8321-4c31-bb49-063076e6ef0b",
   "metadata": {},
   "outputs": [],
   "source": []
  },
  {
   "cell_type": "code",
   "execution_count": null,
   "id": "f4ef45cf-4af7-460f-8f42-b5acd3beabd3",
   "metadata": {},
   "outputs": [],
   "source": []
  }
 ],
 "metadata": {
  "kernelspec": {
   "display_name": "Python 3 (ipykernel)",
   "language": "python",
   "name": "python3"
  },
  "language_info": {
   "codemirror_mode": {
    "name": "ipython",
    "version": 3
   },
   "file_extension": ".py",
   "mimetype": "text/x-python",
   "name": "python",
   "nbconvert_exporter": "python",
   "pygments_lexer": "ipython3",
   "version": "3.10.8"
  }
 },
 "nbformat": 4,
 "nbformat_minor": 5
}
