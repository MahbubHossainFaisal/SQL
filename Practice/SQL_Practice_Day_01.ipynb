{
 "cells": [
  {
   "cell_type": "markdown",
   "id": "0d9deca9",
   "metadata": {},
   "source": [
    "11). Get all employee detail from EmployeeDetail table whose \"FirstName\" not start \n",
    "    with any single character between 'a-p'"
   ]
  },
  {
   "cell_type": "code",
   "execution_count": null,
   "id": "92df9194",
   "metadata": {},
   "outputs": [],
   "source": [
    "SELECT * FROM EmployeeDetail WHERE FirstName REGEXP '^[^a-p]'"
   ]
  },
  {
   "cell_type": "markdown",
   "id": "d2aa344c",
   "metadata": {},
   "source": [
    "14). Get all employee detail from EmployeeDetail table whose \"FirstName\" \n",
    "   containing '%'. ex:-\"Vik%as\""
   ]
  },
  {
   "cell_type": "code",
   "execution_count": null,
   "id": "9e413c26",
   "metadata": {},
   "outputs": [],
   "source": [
    "SELECT * FROM EmployeeDetail WHERE FirstName LIKE '%[%]%'"
   ]
  },
  {
   "cell_type": "markdown",
   "id": "12992482",
   "metadata": {},
   "source": [
    "18). Show \"JoiningDate\" in \"dd mmm yyyy\" format, ex- \"15 Feb 2013\""
   ]
  },
  {
   "cell_type": "code",
   "execution_count": null,
   "id": "47eee3d8",
   "metadata": {},
   "outputs": [],
   "source": [
    "SELECT DATE_FORMAT(JoiningDate, '%d %b %Y') AS FormattedJoiningDate\n",
    "FROM YourTableName;"
   ]
  },
  {
   "cell_type": "markdown",
   "id": "9ddbd521",
   "metadata": {},
   "source": [
    "19). Show \"JoiningDate\" in \"yyyy/mm/dd\" format, ex- \"2013/02/15\""
   ]
  },
  {
   "cell_type": "code",
   "execution_count": null,
   "id": "02322969",
   "metadata": {},
   "outputs": [],
   "source": [
    "SELECT DATE_FORMAT(JoiningDate, '%d %b %Y') AS FormattedJoiningDate\n",
    "FROM YourTableName;"
   ]
  },
  {
   "cell_type": "markdown",
   "id": "bc383e1c",
   "metadata": {},
   "source": [
    "20). Show only time part of the \"JoiningDate\"."
   ]
  },
  {
   "cell_type": "code",
   "execution_count": null,
   "id": "896dd358",
   "metadata": {},
   "outputs": [],
   "source": [
    "SELECT DATE_FORMAT(JoiningDate, '%Y/%m/%d') AS FormattedJoiningDate\n",
    "FROM YourTableName;"
   ]
  },
  {
   "cell_type": "markdown",
   "id": "15ec25a5",
   "metadata": {},
   "source": [
    "21). Get only Year part of \"JoiningDate\"."
   ]
  },
  {
   "cell_type": "code",
   "execution_count": null,
   "id": "2167bf1e",
   "metadata": {},
   "outputs": [],
   "source": [
    "SELECT YEAR(JoiningDate) FROM EmployeeDetail;"
   ]
  },
  {
   "cell_type": "markdown",
   "id": "4f601ed6",
   "metadata": {},
   "source": [
    "23). Get system date."
   ]
  },
  {
   "cell_type": "code",
   "execution_count": null,
   "id": "bbd45611",
   "metadata": {},
   "outputs": [],
   "source": [
    "SELECT NOW();"
   ]
  },
  {
   "cell_type": "markdown",
   "id": "a228a8ad",
   "metadata": {},
   "source": [
    "25). Get the first name, current date, joiningdate and diff between current date and \n",
    "    joining date in months"
   ]
  },
  {
   "cell_type": "code",
   "execution_count": null,
   "id": "27482fa4",
   "metadata": {},
   "outputs": [],
   "source": [
    "SELECT \n",
    "    FirstName,\n",
    "    CURDATE() AS `Current Date`,\n",
    "    JoiningDate,\n",
    "    TIMESTAMPDIFF(MONTH, JoiningDate, CURDATE()) AS `Total Months`\n",
    "FROM EmployeeDetail;"
   ]
  },
  {
   "cell_type": "markdown",
   "id": "ec5f51b7",
   "metadata": {},
   "source": [
    "27). Get all employee details from EmployeeDetail table whose joining year is 2013."
   ]
  },
  {
   "cell_type": "code",
   "execution_count": null,
   "id": "8b4a34e3",
   "metadata": {},
   "outputs": [],
   "source": [
    "SELECT *\n",
    "FROM EmployeeDetail\n",
    "WHERE YEAR(JoiningDate) = 2013;"
   ]
  },
  {
   "cell_type": "markdown",
   "id": "777b2c11",
   "metadata": {},
   "source": [
    "28). Get all employee details from EmployeeDetail table whose joining month is \n",
    "Jan(1)"
   ]
  },
  {
   "cell_type": "code",
   "execution_count": null,
   "id": "e4ed9c6c",
   "metadata": {},
   "outputs": [],
   "source": [
    "SELECT *\n",
    "FROM EmployeeDetail\n",
    "WHERE MONTH(JoiningDate) = 1;"
   ]
  },
  {
   "cell_type": "markdown",
   "id": "338cc47d",
   "metadata": {},
   "source": [
    "34). Select first name from \"EmployeeDetail\" table after removing white spaces from \n",
    "right side"
   ]
  },
  {
   "cell_type": "code",
   "execution_count": null,
   "id": "2417ada3",
   "metadata": {},
   "outputs": [],
   "source": [
    "SELECT RTRIM(FirstName) AS FirstName FROM EmployeeDetail;"
   ]
  },
  {
   "cell_type": "markdown",
   "id": "79d77d95",
   "metadata": {},
   "source": [
    "36). Display first name and Gender as M/F.(if male then M, if Female then F)"
   ]
  },
  {
   "cell_type": "code",
   "execution_count": null,
   "id": "58491673",
   "metadata": {},
   "outputs": [],
   "source": [
    "SELECT FirstName, CASE\n",
    "    WHEN Gender = 'Male' THEN 'M'\n",
    "    WHEN Gender = 'Female' THEN 'F'\n",
    "END AS Gender\n",
    "FROM EmployeeDetail;"
   ]
  },
  {
   "cell_type": "markdown",
   "id": "a144b2ff",
   "metadata": {},
   "source": [
    "41) Select second highest salary from \"EmployeeDetail\" table."
   ]
  },
  {
   "cell_type": "code",
   "execution_count": null,
   "id": "7d3784f1",
   "metadata": {},
   "outputs": [],
   "source": [
    "SELECT Salary\n",
    "FROM EmployeeDetail\n",
    "ORDER BY Salary DESC\n",
    "LIMIT 1, 1;"
   ]
  },
  {
   "cell_type": "code",
   "execution_count": null,
   "id": "274f9482",
   "metadata": {},
   "outputs": [],
   "source": []
  }
 ],
 "metadata": {
  "kernelspec": {
   "display_name": "Python 3 (ipykernel)",
   "language": "python",
   "name": "python3"
  },
  "language_info": {
   "codemirror_mode": {
    "name": "ipython",
    "version": 3
   },
   "file_extension": ".py",
   "mimetype": "text/x-python",
   "name": "python",
   "nbconvert_exporter": "python",
   "pygments_lexer": "ipython3",
   "version": "3.9.13"
  }
 },
 "nbformat": 4,
 "nbformat_minor": 5
}
