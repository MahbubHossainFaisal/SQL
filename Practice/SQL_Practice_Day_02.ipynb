{
 "cells": [
  {
   "cell_type": "markdown",
   "id": "be2b28b1",
   "metadata": {},
   "source": [
    "### 58. Write down the query to fetch EmployeeName & Project who has assign more than one project."
   ]
  },
  {
   "cell_type": "code",
   "execution_count": null,
   "id": "d117b05b",
   "metadata": {},
   "outputs": [],
   "source": [
    "SELECT E.EmployeeID, E.FirstName, P.ProjectName\n",
    "FROM EmployeeDetail E\n",
    "INNER JOIN ProjectDetail P ON E.EmployeeID = P.EmployeeDetailID\n",
    "WHERE E.EmployeeID IN (\n",
    "    SELECT EmployeeDetailID\n",
    "    FROM ProjectDetail\n",
    "    GROUP BY EmployeeDetailID\n",
    "    HAVING COUNT(*) > 1\n",
    ");"
   ]
  },
  {
   "cell_type": "markdown",
   "id": "6d6278ad",
   "metadata": {},
   "source": [
    "### 59. Write down the query to fetch ProjectName on which more than one employee are working along with EmployeeName"
   ]
  },
  {
   "cell_type": "code",
   "execution_count": null,
   "id": "ac66c298",
   "metadata": {},
   "outputs": [],
   "source": [
    "SELECT P.ProjectName, E.FName\n",
    "FROM ProjectDetails P\n",
    "INNER JOIN EmployeeDetails E ON P.EmployeId = E.Id\n",
    "WHERE P.ProjectName IN (\n",
    "    SELECT ProjectName\n",
    "    FROM ProjectDetails\n",
    "    GROUP BY ProjectName\n",
    "    HAVING COUNT(*) > 1\n",
    ");\n"
   ]
  },
  {
   "cell_type": "markdown",
   "id": "88201298",
   "metadata": {},
   "source": [
    "Completed till 77! Day 2"
   ]
  },
  {
   "cell_type": "markdown",
   "id": "ebfe53ac",
   "metadata": {},
   "source": [
    "Day-3 (100 MCQs)"
   ]
  },
  {
   "cell_type": "markdown",
   "id": "d9d0d59a",
   "metadata": {},
   "source": [
    "## SET - 10"
   ]
  },
  {
   "cell_type": "markdown",
   "id": "3f7255ff",
   "metadata": {},
   "source": [
    "### 100. Write down the query to print first letter of a Name in Upper Case and all other letter in Lower Case.(EmployDetail table)\n"
   ]
  },
  {
   "cell_type": "code",
   "execution_count": null,
   "id": "ea4a2b7f",
   "metadata": {},
   "outputs": [],
   "source": [
    "SELECT CONCAT(UPPER(SUBSTRING(FirstName, 1, 1)), LOWER(SUBSTRING(FirstName, 2))) AS FirstName"
   ]
  },
  {
   "cell_type": "markdown",
   "id": "1b52c198",
   "metadata": {},
   "source": [
    "### 101. Write down the query to display all employee name in one cell seprated by ',' ex:-\"Vikas, nikita,Ashish, Nikhil , anish\"(EmployDetail table)\n"
   ]
  },
  {
   "cell_type": "code",
   "execution_count": null,
   "id": "56040022",
   "metadata": {},
   "outputs": [],
   "source": [
    "SELECT GROUP_CONCAT(FirstName SEPARATOR ', ') AS `All Emp Name`\n",
    "FROM EmployeeDetail;\n"
   ]
  },
  {
   "cell_type": "markdown",
   "id": "48e7bd16",
   "metadata": {},
   "source": [
    "### 102. Write down the query to get ProjectName and respective EmployeeName(firstname) which are working on the project"
   ]
  },
  {
   "cell_type": "markdown",
   "id": "8f47be6c",
   "metadata": {},
   "source": [
    "SELECT\n",
    "    P2.ProjectName,\n",
    "    GROUP_CONCAT(E1.FirstName SEPARATOR ', ') AS `Employee Name`\n",
    "FROM\n",
    "    EmployeeDetail E2\n",
    "    INNER JOIN ProjectDetail P2 ON E2.EmployeeID = P2.EmployeeDetailID\n",
    "    INNER JOIN EmployeeDetail E1 ON E1.EmployeeID = P2.EmployeeDetailID\n",
    "GROUP BY P2.ProjectName;\n"
   ]
  },
  {
   "cell_type": "markdown",
   "id": "d453810d",
   "metadata": {},
   "source": [
    "\n",
    "\n",
    "1. **Data Sources**:\n",
    "   - The primary data sources for this query are two tables: `EmployeeDetail` (aliased as `E2`) and `ProjectDetail` (aliased as `P2`).\n",
    "\n",
    "2. **Joins**:\n",
    "   - The query utilizes two `INNER JOIN` clauses to connect these tables:\n",
    "     - The first `INNER JOIN` relates `EmployeeDetail` (E2) and `ProjectDetail` (P2) by matching the `EmployeeID` in `E2` to the `EmployeeDetailID` in `P2`. This establishes a connection between employees and the projects they are associated with.\n",
    "     - The second `INNER JOIN` associates the `EmployeeDetail` table (E1) with `ProjectDetail` (P2) by linking `EmployeeID` in `E1` to the `EmployeeDetailID` in `P2`. This is necessary to extract the first names of employees.\n",
    "\n",
    "3. **Aggregation**:\n",
    "   - The `GROUP_CONCAT` function is employed to aggregate data. This function takes the first names from the `EmployeeDetail` table (E1) associated with each project in `ProjectDetail` (P2) and concatenates them into a single string, separated by commas and spaces. \n",
    "\n",
    "4. **GROUP BY Clause**:\n",
    "   - To organize the results effectively, the `GROUP BY` clause groups the result set by the `ProjectName` from the `ProjectDetail` table (P2). This means that all records for a particular project are grouped together.\n",
    "\n",
    "5. **Result Columns**:\n",
    "   - The `SELECT` statement determines what is displayed in the result set. It includes two columns:\n",
    "     - `P2.ProjectName`: This column displays the project names.\n",
    "     - `GROUP_CONCAT(E1.FirstName SEPARATOR ', ') AS Employee Name`: This column displays the aggregated employee names for each project, separated by commas and spaces.\n",
    "\n",
    "6. **Overall Logic**:\n",
    "   - The query retrieves a list of project names from the `ProjectDetail` table (P2) and associates each project with the first names of employees working on that project.\n",
    "   - It aggregates the employee names and ensures that each project is represented only once in the result set, with the employee names concatenated together.\n",
    "\n",
    "So, the end result is a list of project names and the corresponding employee names for each project, all grouped neatly for easy analysis. This query leverages SQL's capabilities for joining tables and aggregating data to provide a meaningful summary of project and employee relationships."
   ]
  },
  {
   "cell_type": "markdown",
   "id": "a6d80acd",
   "metadata": {},
   "source": [
    "SET 10 Completed!"
   ]
  },
  {
   "cell_type": "code",
   "execution_count": null,
   "id": "99347be7",
   "metadata": {},
   "outputs": [],
   "source": []
  }
 ],
 "metadata": {
  "kernelspec": {
   "display_name": "Python 3 (ipykernel)",
   "language": "python",
   "name": "python3"
  },
  "language_info": {
   "codemirror_mode": {
    "name": "ipython",
    "version": 3
   },
   "file_extension": ".py",
   "mimetype": "text/x-python",
   "name": "python",
   "nbconvert_exporter": "python",
   "pygments_lexer": "ipython3",
   "version": "3.9.13"
  }
 },
 "nbformat": 4,
 "nbformat_minor": 5
}
