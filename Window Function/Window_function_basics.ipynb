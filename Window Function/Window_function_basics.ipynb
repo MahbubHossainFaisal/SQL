{
 "cells": [
  {
   "cell_type": "markdown",
   "id": "440151e1",
   "metadata": {},
   "source": [
    "### Definition"
   ]
  },
  {
   "cell_type": "markdown",
   "id": "7630955c",
   "metadata": {},
   "source": [
    "Window functions, also known as windowing or windowed functions, are a category of functions in relational database management systems (RDBMS) that perform calculations across a specified range of rows related to the current row within a query result set. These functions operate within a \"window\" of rows defined by an OVER() clause, allowing for more advanced and flexible analytical queries."
   ]
  },
  {
   "cell_type": "markdown",
   "id": "5791e505",
   "metadata": {},
   "source": [
    "#### What a basic query of AVG can do"
   ]
  },
  {
   "cell_type": "markdown",
   "id": "267d011f",
   "metadata": {},
   "source": [
    "| student_id | student_name | marks |\n",
    "|------------|--------------|-------|\n",
    "| 1          | Alice        | 85    |\n",
    "| 2          | Bob          | 92    |\n",
    "| 3          | Carol        | 78    |\n",
    "| 4          | David        | 89    |\n",
    "| 5          | Emma         | 95    |\n"
   ]
  },
  {
   "cell_type": "markdown",
   "id": "4ac858ac",
   "metadata": {},
   "source": [
    "    -SELECT AVG(marks) AS Average_marks FROM student_marks;"
   ]
  },
  {
   "cell_type": "markdown",
   "id": "4cc4d5d9",
   "metadata": {},
   "source": [
    "| Average_marks |\n",
    "|---------------|\n",
    "| 87.8          |\n"
   ]
  },
  {
   "cell_type": "markdown",
   "id": "0314cd2b",
   "metadata": {},
   "source": [
    "#### If we use window function in this query"
   ]
  },
  {
   "cell_type": "markdown",
   "id": "454872ce",
   "metadata": {},
   "source": [
    "| student_id | student_name | marks |\n",
    "|------------|--------------|-------|\n",
    "| 1          | Alice        | 85    |\n",
    "| 2          | Bob          | 92    |\n",
    "| 3          | Carol        | 78    |\n",
    "| 4          | David        | 89    |\n",
    "| 5          | Emma         | 95    |\n"
   ]
  },
  {
   "cell_type": "markdown",
   "id": "7eaf4283",
   "metadata": {},
   "source": [
    "    -SELECT AVG(marks) OVER() FROM student_marks;"
   ]
  },
  {
   "cell_type": "markdown",
   "id": "22e9786f",
   "metadata": {},
   "source": [
    "| Average_marks |\n",
    "|---------------|\n",
    "| 87.8          |\n",
    "| 87.8          |\n",
    "| 87.8          |\n",
    "| 87.8          |\n",
    "| 87.8          |\n"
   ]
  },
  {
   "cell_type": "markdown",
   "id": "7428b26b",
   "metadata": {},
   "source": [
    "#### That's what window function do."
   ]
  },
  {
   "cell_type": "markdown",
   "id": "058f807c",
   "metadata": {},
   "source": [
    "    -Suppose we don't want to see the average of all marks in every rows. Rather we want to see the average marks by each department"
   ]
  },
  {
   "cell_type": "markdown",
   "id": "6a7ed8ae",
   "metadata": {},
   "source": [
    "| student_id | student_name | marks | branch |\n",
    "|------------|--------------|-------|--------|\n",
    "| 1          | Alice        | 85    | A      |\n",
    "| 2          | Bob          | 92    | B      |\n",
    "| 3          | Carol        | 78    | A      |\n",
    "| 4          | David        | 89    | B      |\n",
    "| 5          | Emma         | 95    | A      |\n"
   ]
  },
  {
   "cell_type": "markdown",
   "id": "298ce55c",
   "metadata": {},
   "source": [
    "    -SELECT *, AVG(marks) OVER(PARTITION BY branch) AS Average_marks FROM student_marks;"
   ]
  },
  {
   "cell_type": "markdown",
   "id": "af51516b",
   "metadata": {},
   "source": [
    "| student_id | student_name | marks | branch | Average_marks |\n",
    "|------------|--------------|-------|--------|---------------|\n",
    "| 1          | Alice        | 85    | A      | 86.0          |\n",
    "| 2          | Bob          | 92    | B      | 90.5          |\n",
    "| 3          | Carol        | 78    | A      | 86.0          |\n",
    "| 4          | David        | 89    | B      | 90.5          |\n",
    "| 5          | Emma         | 95    | A      | 86.0          |\n"
   ]
  },
  {
   "cell_type": "markdown",
   "id": "08252269",
   "metadata": {},
   "source": [
    "### Example 01"
   ]
  },
  {
   "cell_type": "markdown",
   "id": "793fe97c",
   "metadata": {},
   "source": [
    "    -Find all the students who have marks higher than the average marks of their respective branch using a window function"
   ]
  },
  {
   "cell_type": "markdown",
   "id": "98921ccf",
   "metadata": {},
   "source": [
    "| student_id | student_name | marks | branch |\n",
    "|------------|--------------|-------|--------|\n",
    "| 1          | Alice        | 85    | A      |\n",
    "| 2          | Bob          | 92    | B      |\n",
    "| 3          | Carol        | 78    | A      |\n",
    "| 4          | David        | 89    | B      |\n",
    "| 5          | Emma         | 95    | A      |\n"
   ]
  },
  {
   "cell_type": "markdown",
   "id": "17c81934",
   "metadata": {},
   "source": [
    "    SELECT\n",
    "        student_id,\n",
    "        student_name,\n",
    "        marks,\n",
    "        branch,\n",
    "        AVG(marks) OVER (PARTITION BY branch) AS avg_branch_marks\n",
    "    FROM\n",
    "        student_marks\n",
    "    WHERE\n",
    "        marks > AVG(marks) OVER (PARTITION BY branch);\n"
   ]
  },
  {
   "cell_type": "markdown",
   "id": "22063ec7",
   "metadata": {},
   "source": [
    "| student_id | student_name | marks | branch | avg_branch_marks |\n",
    "|------------|--------------|-------|--------|------------------|\n",
    "| 2          | Bob          | 92    | B      | 90.5             |\n",
    "| 5          | Emma         | 95    | A      | 86.0             |\n"
   ]
  },
  {
   "cell_type": "code",
   "execution_count": null,
   "id": "6dac3c84",
   "metadata": {},
   "outputs": [],
   "source": []
  }
 ],
 "metadata": {
  "kernelspec": {
   "display_name": "Python 3 (ipykernel)",
   "language": "python",
   "name": "python3"
  },
  "language_info": {
   "codemirror_mode": {
    "name": "ipython",
    "version": 3
   },
   "file_extension": ".py",
   "mimetype": "text/x-python",
   "name": "python",
   "nbconvert_exporter": "python",
   "pygments_lexer": "ipython3",
   "version": "3.9.13"
  }
 },
 "nbformat": 4,
 "nbformat_minor": 5
}
