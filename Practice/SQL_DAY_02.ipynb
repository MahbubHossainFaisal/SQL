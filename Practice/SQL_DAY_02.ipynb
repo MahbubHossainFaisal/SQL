{
 "cells": [
  {
   "cell_type": "markdown",
   "id": "41ab2d33",
   "metadata": {},
   "source": [
    "## Type of Triangle\n",
    "\n",
    "Link: https://www.hackerrank.com/challenges/what-type-of-triangle/problem?isFullScreen=true"
   ]
  },
  {
   "cell_type": "code",
   "execution_count": null,
   "id": "bd20a244",
   "metadata": {},
   "outputs": [],
   "source": [
    "SELECT\n",
    "CASE \n",
    "    WHEN A+B <= C OR B+C <= A OR A+C <= B THEN 'Not A Triangle'\n",
    "    WHEN A = B AND B = C THEN 'Equilateral'\n",
    "    WHEN A = B OR B = C OR A = C THEN 'Isosceles'\n",
    "    ELSE 'Scalene'\n",
    "END \n",
    "FROM TRIANGLES;"
   ]
  },
  {
   "cell_type": "markdown",
   "id": "679f8ebe",
   "metadata": {},
   "source": [
    "## The PADS\n",
    "\n",
    "Link: https://www.hackerrank.com/challenges/the-pads/problem?isFullScreen=true&h_r=next-challenge&h_v=zen"
   ]
  },
  {
   "cell_type": "code",
   "execution_count": null,
   "id": "212d3b0d",
   "metadata": {},
   "outputs": [],
   "source": [
    "SELECT CONCAT(Name,'(',LEFT(Occupation,1),')') \n",
    "FROM OCCUPATIONS ORDER BY Name;\n",
    "SELECT CONCAT('There are a total of ',COUNT(*),' ',lower(Occupation),'s.') AS OccupationCount\n",
    "FROM OCCUPATIONS GROUP BY Occupation ORDER BY OccupationCount,Occupation;"
   ]
  },
  {
   "cell_type": "code",
   "execution_count": null,
   "id": "d8b9889f",
   "metadata": {},
   "outputs": [],
   "source": []
  },
  {
   "cell_type": "markdown",
   "id": "a5b2f823",
   "metadata": {},
   "source": [
    "## OCCUPATIONS\n",
    "\n",
    "Link: https://www.hackerrank.com/challenges/occupations/problem?isFullScreen=true&h_r=next-challenge&h_v=zen&h_r=next-challenge&h_v=zen"
   ]
  },
  {
   "cell_type": "code",
   "execution_count": null,
   "id": "612cc0a6",
   "metadata": {},
   "outputs": [],
   "source": [
    "SELECT\n",
    "    MAX(CASE WHEN Occupation = 'Doctor' THEN Name ELSE NULL END) AS Doctor,\n",
    "    MAX(CASE WHEN Occupation = 'Professor' THEN Name ELSE NULL END) AS Professor,\n",
    "    MAX(CASE WHEN Occupation = 'Singer' THEN Name ELSE NULL END) AS Singer,\n",
    "    MAX(CASE WHEN Occupation = 'Actor' THEN Name ELSE NULL END) AS Actor\n",
    "FROM (\n",
    "    SELECT\n",
    "        ROW_NUMBER() OVER (PARTITION BY Occupation ORDER BY Name) AS rn,\n",
    "        Name,\n",
    "        Occupation\n",
    "    FROM OCCUPATIONS\n",
    ") AS Subquery\n",
    "GROUP BY rn\n",
    "ORDER BY rn;\n"
   ]
  },
  {
   "cell_type": "markdown",
   "id": "1eb1b7e1",
   "metadata": {},
   "source": [
    "```sql\n",
    "SELECT\n",
    "    MAX(CASE WHEN Occupation = 'Doctor' THEN Name ELSE NULL END) AS Doctor,\n",
    "    MAX(CASE WHEN Occupation = 'Professor' THEN Name ELSE NULL END) AS Professor,\n",
    "    MAX(CASE WHEN Occupation = 'Singer' THEN Name ELSE NULL END) AS Singer,\n",
    "    MAX(CASE WHEN Occupation = 'Actor' THEN Name ELSE NULL END) AS Actor\n",
    "```\n",
    "\n",
    "1. **SELECT:** This keyword starts the SELECT statement, which is used to retrieve data from the database.\n",
    "\n",
    "2. **MAX(...):** This is an aggregate function. In this context, it's used to select the maximum value from a set of values. However, we're using it here in a unique way to achieve conditional aggregation.\n",
    "\n",
    "3. **CASE WHEN ... THEN ... ELSE ... END:** This is a conditional statement. It checks the condition specified after `WHEN`. If the condition is true, it returns the value specified after `THEN`, otherwise, it returns the value after `ELSE`.\n",
    "\n",
    "4. **Occupation = 'Doctor':** This is a condition that checks if the value of the 'Occupation' column is equal to 'Doctor'.\n",
    "\n",
    "5. **Name ELSE NULL END:** If the condition `Occupation = 'Doctor'` is true, it returns the value of the 'Name' column. Otherwise, it returns `NULL`.\n",
    "\n",
    "6. **AS Doctor, AS Professor, AS Singer, AS Actor:** These are column aliases. They rename the columns in the result set. Each conditionally aggregated column is aliased with its respective occupation.\n",
    "\n",
    "```sql\n",
    "FROM (\n",
    "    SELECT\n",
    "        ROW_NUMBER() OVER (PARTITION BY Occupation ORDER BY Name) AS rn,\n",
    "        Name,\n",
    "        Occupation\n",
    "    FROM OCCUPATIONS\n",
    ") AS Subquery\n",
    "```\n",
    "\n",
    "1. **FROM ( ... ) AS Subquery:** This part defines a subquery and gives it the alias \"Subquery\". A subquery is a query nested within another query. In this case, it generates a dataset with additional information for the pivoting process.\n",
    "\n",
    "2. **ROW_NUMBER() OVER (...):** This is a window function. It assigns a unique sequential number to each row within a partition of the result set. The `PARTITION BY` clause divides the result set into groups based on the 'Occupation' column. The `ORDER BY` clause specifies the order within each partition.\n",
    "\n",
    "3. **AS rn:** This assigns the result of the ROW_NUMBER() function to a column named 'rn' in the subquery.\n",
    "\n",
    "4. **Name, Occupation:** These are the columns selected from the 'OCCUPATIONS' table to be used in the subquery.\n",
    "\n",
    "```sql\n",
    "GROUP BY rn\n",
    "ORDER BY rn;\n",
    "```\n",
    "\n",
    "1. **GROUP BY rn:** This groups the rows from the subquery based on the 'rn' column. This is essential to ensure that the data is aligned properly for pivoting.\n",
    "\n",
    "2. **ORDER BY rn:** This sorts the resulting rows by the 'rn' column in ascending order. This maintains the proper order when displaying the pivoted table.\n",
    "\n",
    "In summary, this query uses conditional aggregation along with window functions to pivot the 'OCCUPATIONS' data. It assigns row numbers to each occupation group, and then uses the MAX function with CASE statements to display the names under the respective columns. The GROUP BY and ORDER BY clauses ensure the correct alignment and order of the pivoted data."
   ]
  },
  {
   "cell_type": "code",
   "execution_count": null,
   "id": "da7a0328",
   "metadata": {},
   "outputs": [],
   "source": []
  }
 ],
 "metadata": {
  "kernelspec": {
   "display_name": "Python 3 (ipykernel)",
   "language": "python",
   "name": "python3"
  },
  "language_info": {
   "codemirror_mode": {
    "name": "ipython",
    "version": 3
   },
   "file_extension": ".py",
   "mimetype": "text/x-python",
   "name": "python",
   "nbconvert_exporter": "python",
   "pygments_lexer": "ipython3",
   "version": "3.9.13"
  }
 },
 "nbformat": 4,
 "nbformat_minor": 5
}
