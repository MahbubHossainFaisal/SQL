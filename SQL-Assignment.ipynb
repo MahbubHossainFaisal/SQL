{
 "cells": [
  {
   "cell_type": "markdown",
   "id": "e2581ee3-49b9-4727-8be9-66f5bc90fd0d",
   "metadata": {},
   "source": [
    "##### Q1. What is a database? Differentiate between SQL and NoSQL databases."
   ]
  },
  {
   "cell_type": "markdown",
   "id": "d5b8e605-3749-46ad-bc2b-17cd9222e712",
   "metadata": {},
   "source": [
    "A database is a collection of structured data that is organized and stored in a way that enables efficient retrieval, management, and updating of the data. Databases are commonly used in applications such as customer relationship management (CRM), inventory management, and e-commerce, among others.\n",
    "\n",
    "SQL (Structured Query Language) and NoSQL (Not Only SQL) are two types of database management systems (DBMS). The primary difference between them is the way they store and manage data.\n",
    "\n",
    "SQL databases are relational databases, which means they store data in tables with predefined relationships between them. SQL databases use SQL as the primary language for querying and manipulating data. Some popular examples of SQL databases are MySQL, Oracle, Microsoft SQL Server, and PostgreSQL.\n",
    "\n",
    "On the other hand, NoSQL databases are non-relational databases that do not use tables with predefined relationships. Instead, they store data in a variety of ways, such as key-value pairs, documents, or graphs. NoSQL databases are designed to handle large amounts of unstructured or semi-structured data that may not fit neatly into tables. Some popular examples of NoSQL databases are MongoDB, Cassandra, and Redis.\n",
    "\n",
    "SQL databases are known for their reliability, stability, and the ability to handle complex queries. They are generally preferred for applications that require complex data relationships or transactions. NoSQL databases, on the other hand, are known for their scalability, flexibility, and ability to handle large volumes of unstructured data. They are generally preferred for applications that require high-performance and horizontal scaling."
   ]
  },
  {
   "cell_type": "code",
   "execution_count": null,
   "id": "7b4b4448-c62f-40c4-9876-f43d342598e6",
   "metadata": {},
   "outputs": [],
   "source": []
  },
  {
   "cell_type": "markdown",
   "id": "b43a1795-e698-4d55-b8cb-128009d57343",
   "metadata": {},
   "source": [
    "##### Q2. What is DDL? Explain why CREATE, DROP, ALTER, and TRUNCATE are used with an example."
   ]
  },
  {
   "cell_type": "markdown",
   "id": "33a315b1-c04d-4286-b9cd-b13b9e1542a9",
   "metadata": {},
   "source": [
    "DDL (Data Definition Language) is a subset of SQL that is used to define the structure and schema of a database. DDL statements are used to create, modify, and delete database objects such as tables, views, indexes, and constraints."
   ]
  },
  {
   "cell_type": "markdown",
   "id": "091def3b-a8b5-4163-bc1b-6ca7d86a6282",
   "metadata": {},
   "source": [
    "CREATE: The CREATE statement is used to create new database objects such as tables, views, indexes, and constraints. For example, the following CREATE statement creates a new table named \"employees\" with columns for employee ID, name, and department:"
   ]
  },
  {
   "cell_type": "markdown",
   "id": "fee4c1b2-97c4-4816-ac9b-e428b957cfb8",
   "metadata": {},
   "source": [
    "CREATE TABLE employees (\n",
    "    id INT PRIMARY KEY,\n",
    "    name VARCHAR(50),\n",
    "    department VARCHAR(50)\n",
    ");"
   ]
  },
  {
   "cell_type": "markdown",
   "id": "0a222a62-3807-47da-9224-efcb0d48fbac",
   "metadata": {},
   "source": [
    "DROP: The DROP statement is used to delete existing database objects such as tables, views, indexes, and constraints. For example, the following DROP statement deletes the \"employees\" table:"
   ]
  },
  {
   "cell_type": "markdown",
   "id": "47a0c250-af42-4591-8fef-3a71c867e5d6",
   "metadata": {},
   "source": [
    "DROP TABLE employees;"
   ]
  },
  {
   "cell_type": "markdown",
   "id": "1d3e11c7-eb9b-48b3-b24f-37adc3eb1188",
   "metadata": {},
   "source": [
    "ALTER: The ALTER statement is used to modify the structure of existing database objects such as tables, views, indexes, and constraints. For example, the following ALTER statement adds a new column named \"salary\" to the \"employees\" table:"
   ]
  },
  {
   "cell_type": "markdown",
   "id": "879526e9-cb39-4080-9836-451c5a320428",
   "metadata": {},
   "source": [
    "ALTER TABLE employees ADD COLUMN salary INT;\n"
   ]
  },
  {
   "cell_type": "markdown",
   "id": "71ec5135-57fa-4623-ac85-86624edd1462",
   "metadata": {},
   "source": [
    "TRUNCATE: The TRUNCATE statement is used to delete all rows from a table without deleting the table structure. For example, the following TRUNCATE statement deletes all rows from the \"employees\" table:"
   ]
  },
  {
   "cell_type": "markdown",
   "id": "cea7f7bf-353c-49fa-a824-eba58d0fad5a",
   "metadata": {},
   "source": [
    "TRUNCATE TABLE employees;\n"
   ]
  },
  {
   "cell_type": "code",
   "execution_count": null,
   "id": "251ef5ad-1fd8-46a5-8d03-42f9ec92694a",
   "metadata": {},
   "outputs": [],
   "source": [
    "\n"
   ]
  },
  {
   "cell_type": "markdown",
   "id": "fac3d518-9bbd-4d80-b43e-890066f00058",
   "metadata": {},
   "source": [
    "##### Q3. What is DML? Explain INSERT, UPDATE, and DELETE with an example."
   ]
  },
  {
   "cell_type": "markdown",
   "id": "2123887b-684a-4984-a747-39d1285cb83a",
   "metadata": {},
   "source": [
    " DML (Data Manipulation Language) is a subset of SQL that is used to manipulate data stored in a database. DML statements are used to insert, update, and delete data in tables."
   ]
  },
  {
   "cell_type": "markdown",
   "id": "3fdf5df2-abcd-4b0f-91f0-edc8dcdfe026",
   "metadata": {},
   "source": [
    "INSERT: The INSERT statement is used to add new rows to a table. For example, the following INSERT statement adds a new row to the \"employees\" table with values for the \"id\", \"name\", \"department\", and \"salary\" columns:"
   ]
  },
  {
   "cell_type": "markdown",
   "id": "8a98e6cd-8dcf-4ede-93da-5dc80446c903",
   "metadata": {},
   "source": [
    "INSERT INTO employees (id, name, department, salary)\n",
    "VALUES (1, 'John Doe', 'Marketing', 50000);\n"
   ]
  },
  {
   "cell_type": "markdown",
   "id": "692360c3-9946-416a-9016-709f3dcdb249",
   "metadata": {},
   "source": [
    "UPDATE: The UPDATE statement is used to modify existing rows in a table. For example, the following UPDATE statement changes the department for the employee with an \"id\" of 1 to \"Sales\":"
   ]
  },
  {
   "cell_type": "markdown",
   "id": "865f860f-20d2-4d36-833b-4c555998519c",
   "metadata": {},
   "source": [
    "UPDATE employees SET department = 'Sales' WHERE id = 1;"
   ]
  },
  {
   "cell_type": "markdown",
   "id": "da6a4644-641b-48a1-b07c-2847155f77fc",
   "metadata": {},
   "source": [
    "DELETE: The DELETE statement is used to remove existing rows from a table. For example, the following DELETE statement removes the employee with an \"id\" of 1 from the \"employees\" table:"
   ]
  },
  {
   "cell_type": "markdown",
   "id": "5a97fd80-2bd7-4515-b1f9-2d50a0f71bc0",
   "metadata": {},
   "source": [
    "DELETE FROM employees WHERE id = 1;\n"
   ]
  },
  {
   "cell_type": "code",
   "execution_count": null,
   "id": "e3dd427e-2ae6-4599-b4bf-ecbcd0c1f680",
   "metadata": {},
   "outputs": [],
   "source": []
  },
  {
   "cell_type": "markdown",
   "id": "8ddaf761-1e5c-4a16-81ea-40c47a92125a",
   "metadata": {},
   "source": [
    "##### Q4. What is DQL? Explain SELECT with an example."
   ]
  },
  {
   "cell_type": "markdown",
   "id": "9d71e164-146a-4c9b-bf9c-59faf2c3c12c",
   "metadata": {},
   "source": [
    "DQL (Data Query Language) is a subset of SQL that is used to retrieve data from a database. DQL statements are used to query tables and return specific data based on specified criteria.\n",
    "\n",
    "The most commonly used DQL statement is SELECT. The SELECT statement is used to retrieve data from one or more tables in a database. It can be used to retrieve all rows and columns from a table or to retrieve specific columns based on specified criteria."
   ]
  },
  {
   "cell_type": "markdown",
   "id": "63c9747b-f61b-4d01-9303-06735f41820a",
   "metadata": {},
   "source": [
    "The basic syntax of the SELECT statement is as follows:\n",
    "SELECT column1, column2, ...\n",
    "FROM table_name\n",
    "WHERE condition;"
   ]
  },
  {
   "cell_type": "code",
   "execution_count": null,
   "id": "63e8cd51-420d-4c23-baa6-8a66497ddec4",
   "metadata": {},
   "outputs": [],
   "source": []
  },
  {
   "cell_type": "markdown",
   "id": "bbde0a65-1a03-4eee-b42d-2b89c5f0d3f0",
   "metadata": {},
   "source": [
    "##### Q5. Explain Primary Key and Foreign Key."
   ]
  },
  {
   "cell_type": "markdown",
   "id": "0ddf2800-945e-4ab2-8cff-67674263ad8d",
   "metadata": {},
   "source": [
    "A Primary Key is a column or group of columns in a table that uniquely identifies each row in the table. Primary keys are used to ensure that each row in a table is unique and to provide a means of accessing specific rows in the table. Primary keys must have unique values and cannot contain NULL values. In most cases, a Primary Key is created using an ID column, which is an auto-incrementing integer column that assigns a unique value to each new row that is added to the table.\n",
    "\n",
    "For example, consider a \"students\" table that contains information about students enrolled in a school. The \"id\" column in this table could be used as the Primary Key because it uniquely identifies each student in the table.\n",
    "\n",
    "A Foreign Key is a column or group of columns in a table that refers to the Primary Key of another table. Foreign keys are used to establish relationships between tables and to enforce referential integrity. The Foreign Key column in one table must contain only values that are present in the Primary Key column of the other table.\n",
    "\n",
    "For example, consider a \"grades\" table that contains information about the grades that students received on different assignments. The \"student_id\" column in this table could be used as a Foreign Key to establish a relationship with the \"students\" table. This relationship ensures that a student cannot be assigned a grade unless they are already present in the \"students\" table."
   ]
  },
  {
   "cell_type": "markdown",
   "id": "42cfd618-23c9-44b5-9ea5-cdd94dc17fd8",
   "metadata": {},
   "source": [
    "##### Q6. Write a python code to connect MySQL to python. Explain the cursor() and execute() method."
   ]
  },
  {
   "cell_type": "markdown",
   "id": "fd8cdfec-e4da-4346-92be-3f4f83b257f0",
   "metadata": {},
   "source": [
    "Here is python and mysql connection code:"
   ]
  },
  {
   "cell_type": "code",
   "execution_count": 3,
   "id": "2c15241b-ba55-4639-9dd2-c1797b480098",
   "metadata": {},
   "outputs": [
    {
     "ename": "ModuleNotFoundError",
     "evalue": "No module named 'mysql'",
     "output_type": "error",
     "traceback": [
      "\u001b[0;31m---------------------------------------------------------------------------\u001b[0m",
      "\u001b[0;31mModuleNotFoundError\u001b[0m                       Traceback (most recent call last)",
      "Cell \u001b[0;32mIn[3], line 1\u001b[0m\n\u001b[0;32m----> 1\u001b[0m \u001b[38;5;28;01mimport\u001b[39;00m \u001b[38;5;21;01mmysql\u001b[39;00m\u001b[38;5;21;01m.\u001b[39;00m\u001b[38;5;21;01mconnector\u001b[39;00m\n\u001b[1;32m      3\u001b[0m mydb \u001b[38;5;241m=\u001b[39m mysql\u001b[38;5;241m.\u001b[39mconnector\u001b[38;5;241m.\u001b[39mconnect(\n\u001b[1;32m      4\u001b[0m   host\u001b[38;5;241m=\u001b[39m\u001b[38;5;124m\"\u001b[39m\u001b[38;5;124mlocalhost\u001b[39m\u001b[38;5;124m\"\u001b[39m,\n\u001b[1;32m      5\u001b[0m   user\u001b[38;5;241m=\u001b[39m\u001b[38;5;124m\"\u001b[39m\u001b[38;5;124mabc\u001b[39m\u001b[38;5;124m\"\u001b[39m,\n\u001b[1;32m      6\u001b[0m   password\u001b[38;5;241m=\u001b[39m\u001b[38;5;124m\"\u001b[39m\u001b[38;5;124mpassword\u001b[39m\u001b[38;5;124m\"\u001b[39m,\n\u001b[1;32m      7\u001b[0m )\n\u001b[1;32m      9\u001b[0m mycursor \u001b[38;5;241m=\u001b[39m mydb\u001b[38;5;241m.\u001b[39mcursor()\n",
      "\u001b[0;31mModuleNotFoundError\u001b[0m: No module named 'mysql'"
     ]
    }
   ],
   "source": [
    "import mysql.connector\n",
    "\n",
    "mydb = mysql.connector.connect(\n",
    "  host=\"localhost\",\n",
    "  user=\"abc\",\n",
    "  password=\"password\",\n",
    ")\n",
    "\n",
    "mycursor = mydb.cursor()\n",
    "\n",
    "mycursor.execute(\"SELECT * FROM student\")\n",
    "\n",
    "myresult = mycursor.fetchall()\n",
    "\n",
    "for x in myresult:\n",
    "  print(x)\n"
   ]
  },
  {
   "cell_type": "markdown",
   "id": "640d4a23-1052-47b3-8277-2ad23462b88c",
   "metadata": {},
   "source": [
    "cursor(): The cursor() method is used to create a cursor object that can be used to execute SQL queries on a database. The cursor object allows you to traverse the rows returned by a query and perform operations on them.\n",
    "\n",
    "execute(): The execute() method is used to execute an SQL query on a database using a cursor object. The query is passed as an argument to the execute() method. After executing the query, the cursor is positioned at the beginning of the result set, and you can use methods like fetchall() to retrieve the results of the query."
   ]
  },
  {
   "cell_type": "code",
   "execution_count": null,
   "id": "2cf9150b-37c8-4d84-8ca1-f45917b8c26a",
   "metadata": {},
   "outputs": [],
   "source": []
  },
  {
   "cell_type": "markdown",
   "id": "ae6ffe6e-ed87-4be0-944f-8e5078f77526",
   "metadata": {},
   "source": [
    "##### Q7. Give the order of execution of SQL clauses in an SQL query."
   ]
  },
  {
   "cell_type": "markdown",
   "id": "5cb8750c-d3ba-41b2-b616-82b8fd267793",
   "metadata": {},
   "source": [
    "An SQL query is made up of several clauses that define various aspects of the query, such as what data to retrieve and how to filter and sort that data. The order of execution of these clauses is as follows:\n",
    "\n",
    "1. SELECT: This clause specifies the columns or expressions that should be retrieved by the query.\n",
    "\n",
    "2. FROM: This clause specifies the tables from which the data should be retrieved.\n",
    "\n",
    "3. JOIN: This clause specifies how the tables should be joined together. This clause is optional, but if it is used, it must come after the FROM clause.\n",
    "\n",
    "4. WHERE: This clause specifies the conditions that must be met for a row to be included in the result set. This clause is optional, but if it is used, it must come after the FROM and JOIN clauses.\n",
    "\n",
    "5. GROUP BY: This clause specifies how the rows should be grouped together. This clause is optional, but if it is used, it must come after the FROM and JOIN clauses and before the ORDER BY clause.\n",
    "\n",
    "6. HAVING: This clause specifies the conditions that must be met for a group to be included in the result set. This clause is optional, but if it is used, it must come after the GROUP BY clause.\n",
    "\n",
    "7. ORDER BY: This clause specifies how the rows should be sorted. This clause is optional, but if it is used, it must come after the FROM and JOIN clauses and after the GROUP BY or HAVING clauses if they are used.\n",
    "\n",
    "8. LIMIT: This clause specifies the maximum number of rows that should be returned by the query. This clause is optional, and if it is used, it must come last in the query."
   ]
  },
  {
   "cell_type": "code",
   "execution_count": null,
   "id": "5540c683-bc5e-4538-8aa4-67b0509543d1",
   "metadata": {},
   "outputs": [],
   "source": []
  }
 ],
 "metadata": {
  "kernelspec": {
   "display_name": "Python 3 (ipykernel)",
   "language": "python",
   "name": "python3"
  },
  "language_info": {
   "codemirror_mode": {
    "name": "ipython",
    "version": 3
   },
   "file_extension": ".py",
   "mimetype": "text/x-python",
   "name": "python",
   "nbconvert_exporter": "python",
   "pygments_lexer": "ipython3",
   "version": "3.10.8"
  }
 },
 "nbformat": 4,
 "nbformat_minor": 5
}
