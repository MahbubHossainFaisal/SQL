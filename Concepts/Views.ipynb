{
 "cells": [
  {
   "cell_type": "markdown",
   "id": "4a9515ac",
   "metadata": {},
   "source": [
    "## Views"
   ]
  },
  {
   "cell_type": "markdown",
   "id": "3b021fba",
   "metadata": {},
   "source": [
    "In SQL, a view is a virtual table that is based on the result of a SELECT query. It's a saved query that you can treat like a table, allowing you to retrieve and manipulate data as if it were stored in an actual table. Views provide an abstraction layer that simplifies complex queries, enhances security, and promotes data integrity.\n",
    "\n",
    "Here's an example to help you understand views better:\n",
    "\n",
    "**Example: Sales Reporting**\n",
    "\n",
    "Suppose you have a database for an online store that contains tables for orders and products. You want to create a view that combines information from these tables to provide a simplified view of order details, including product names.\n",
    "\n",
    "**Tables**:\n",
    "\n",
    "Table: Orders\n",
    "\n",
    "| order_id | customer_id | order_date  |\n",
    "| -------- | ----------- | ----------- |\n",
    "| 1        | 101         | 2023-08-01  |\n",
    "| 2        | 102         | 2023-08-02  |\n",
    "\n",
    "Table: OrderDetails\n",
    "\n",
    "| order_id | product_id | quantity |\n",
    "| -------- | ---------- | -------- |\n",
    "| 1        | 201        | 3        |\n",
    "| 2        | 202        | 2        |\n",
    "\n",
    "Table: Products\n",
    "\n",
    "| product_id | product_name |\n",
    "| ---------- | ------------ |\n",
    "| 201        | Laptop       |\n",
    "| 202        | Smartphone   |\n",
    "\n",
    "**Creating a View**:\n",
    "\n",
    "You want to create a view that displays order details along with product names. Here's how you would create the view:\n",
    "\n",
    "```sql\n",
    "CREATE VIEW OrderDetailsView AS\n",
    "SELECT o.order_id, o.order_date, p.product_name, od.quantity\n",
    "FROM Orders o\n",
    "JOIN OrderDetails od ON o.order_id = od.order_id\n",
    "JOIN Products p ON od.product_id = p.product_id;\n",
    "```\n",
    "\n",
    "**Using the View**:\n",
    "\n",
    "Once the view is created, you can query it just like you would a regular table:\n",
    "\n",
    "```sql\n",
    "SELECT * FROM OrderDetailsView;\n",
    "```\n",
    "\n",
    "The result would be:\n",
    "\n",
    "| order_id | order_date  | product_name | quantity |\n",
    "| -------- | ----------- | ------------ | -------- |\n",
    "| 1        | 2023-08-01  | Laptop       | 3        |\n",
    "| 2        | 2023-08-02  | Smartphone   | 2        |\n",
    "\n",
    "**Benefits of Views**:\n",
    "\n",
    "1. **Simplified Queries**: Instead of joining multiple tables each time, you can simply query the view for the desired results.\n",
    "\n",
    "2. **Data Abstraction**: Views provide a way to present a simplified or tailored view of data to different users while keeping the underlying schema complex.\n",
    "\n",
    "3. **Enhanced Security**: You can grant users access to views without exposing the underlying tables, providing security and controlling data access.\n",
    "\n",
    "4. **Data Integrity**: Views can help ensure that data is presented consistently and accurately by applying filters and logic directly within the view definition.\n",
    "\n",
    "5. **Performance**: Views can be optimized by the database system, potentially improving query performance.\n",
    "\n",
    "In summary, views offer a powerful way to create a virtual layer on top of your database tables, making it easier to work with complex data, maintain security, and streamline your SQL queries."
   ]
  },
  {
   "cell_type": "code",
   "execution_count": null,
   "id": "6cc736ff",
   "metadata": {},
   "outputs": [],
   "source": []
  }
 ],
 "metadata": {
  "kernelspec": {
   "display_name": "Python 3 (ipykernel)",
   "language": "python",
   "name": "python3"
  },
  "language_info": {
   "codemirror_mode": {
    "name": "ipython",
    "version": 3
   },
   "file_extension": ".py",
   "mimetype": "text/x-python",
   "name": "python",
   "nbconvert_exporter": "python",
   "pygments_lexer": "ipython3",
   "version": "3.9.13"
  }
 },
 "nbformat": 4,
 "nbformat_minor": 5
}
